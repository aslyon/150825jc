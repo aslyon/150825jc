{
 "cells": [
  {
   "cell_type": "code",
   "execution_count": 8,
   "metadata": {
    "collapsed": false
   },
   "outputs": [],
   "source": [
    "with open(\"Ocbim_tubulins.fasta\", \"rU\") as tubs_handle:\n",
    "    tubs_fa = \"\".join(tubs_handle)\n",
    "    tubs_fa_split = tubs_fa.split(\">\")\n",
    "    seq_dict = {}\n",
    "    for seq in tubs_fa_split:\n",
    "        if len(seq) > 0:\n",
    "            seq_split = seq.split(\"\\n\")\n",
    "            id = seq_split[0]\n",
    "            sequence = \"\".join(seq_split[1:])\n",
    "            seq_dict[id] = sequence"
   ]
  },
  {
   "cell_type": "code",
   "execution_count": 26,
   "metadata": {
    "collapsed": false
   },
   "outputs": [
    {
     "name": "stdout",
     "output_type": "stream",
     "text": [
      "FWEVISDEHGIDPTGSYHGDNDLQLERINVYFTEASGGKYVPRAIMVDLEPGTMDSVRSGPFGQIFRPDNFVFGQSGAGNNWAKGHYTEGAELVDSVLDVLRKECESCDCLQGFQMTHSLGGGTGSGMGTLLISKIREEYPDRIMNTFSVVPSPKVSDTVVEPYNATLSVHQLVENTDETYCIDNEALYDICFRTLKLTTPTYGDLNHLVSATMSGVTTCLRFPGQLNADLRKLAVNMVPFPRLHFFMPGFAPLTSRGCQQYRALTVPELTQQMFDAKNMMAACDPRHGRYLTVAAMFRGRMSMKEVDEQMLNVQNKNSSYFVEWIPNNVKTAVCDIPPRGLKMSATFVGNSTAIQELFKRISEQFTAMFRRKAFLHWYTGEGMDEMEFTEAESNMNDLVSEYQQYQDATTEEDGEFEEEAEEEEN*\n",
      ">Ocbimv22006874m.p_edit\n",
      "FWEVISDEHGIDPTGSYHGDNDLQLERINVYFAEASGGKYVPRAVMVDLEPGTMDSVRSGPFGQIFRPDNFVFGQSGAGNNWAKGHYTEGAELVDSVLDVLRKECESCDCLQGFQMTHSLGGGTGSGMGTLLVSEIREEYPDRIMNTFSVVPSPKVSDTVVEPYNATLSVHQLVENTDETYCIDNEALYDICFRTLKLTTPTYGDLNHLVSATMSGVTTCLRFPGQLNADLRKLAVNMVPFPRLHFFMPGFAPLTSRGCQQYRALTVPELTQQMFDAKNMMAACDPRHGRYLTVAAMFRGRMSMKEVDEQMLNVQNKNSSYFVEWIPNNVKTAVCDIPPRGLKMSATFVGNSTAIQELFKRISEQFTAMFRRKAFLHWYTGEGMDEMEFTEAESNMNDLVSEYQQYQDATTEEDGEFEEEAEEEEN*\n",
      "\n"
     ]
    }
   ],
   "source": [
    "def mutate(seq_dict, seqid, pos, res):\n",
    "    sequence = seq_dict[seqid]\n",
    "    pos_res = {pos: res for pos, res in zip(pos, res)}\n",
    "    index_residue = [(index, residue) for index, residue in enumerate(sequence, start =1)]\n",
    "    mut_sequence = []\n",
    "    for index, residue in index_residue:\n",
    "        if index in pos_res.keys():\n",
    "            mut_sequence.append(pos_res[index])\n",
    "        else:\n",
    "            mut_sequence.append(residue)\n",
    "    mut_sequence = \"\".join(mut_sequence)\n",
    "    return(\">\"+seqid+\"_edit\\n\"+mut_sequence+\"\\n\")\n",
    "\n",
    "print seq_dict[\"Ocbimv22006874m.p\"]\n",
    "print mutate(seq_dict, 'Ocbimv22006874m.p', [33,45,133,135], ['A', 'V', 'V', 'E'])"
   ]
  },
  {
   "cell_type": "code",
   "execution_count": 30,
   "metadata": {
    "collapsed": false
   },
   "outputs": [],
   "source": [
    "with open(\"Ocbim_tubs_edit.fasta\", \"a\") as edits_handle:\n",
    "    edits_handle.write(mutate(seq_dict, \"Ocbimv22032594m.p\", [126], ['G']))\n",
    "    edits_handle.write(mutate(seq_dict, \"Ocbimv22010928m.p\", [172, 178], ['V', 'V']))\n",
    "    edits_handle.write(mutate(seq_dict, \"Ocbimv22007862m.p\", [52], ['S']))\n",
    "    edits_handle.write(mutate(seq_dict, \"Ocbimv22002831m.p\", [62], ['G']))\n",
    "    edits_handle.write(mutate(seq_dict, \"Ocbimv22006874m.p\", [33,45,133,135], ['A','V','V','E']))\n",
    "    edits_handle.write(mutate(seq_dict, \"Ocbimv22010931m.p\", [121, 177], ['R','V']))\n",
    "    edits_handle.write(mutate(seq_dict, \"Ocbimv22035659m.p\", [49, 271, 384], ['F','A', 'V']))\n",
    "    edits_handle.write(mutate(seq_dict, \"Ocbimv22035660m.p\", [384], ['V']))\n",
    "    edits_handle.write(mutate(seq_dict, \"Ocbimv22000366m.p\", [111], ['R']))\n",
    "    edits_handle.write(mutate(seq_dict, \"Ocbimv22013969m.p\", [400], ['A']))\n",
    "    edits_handle.write(mutate(seq_dict, \"Ocbimv22013969m.p\", [400], ['A']))"
   ]
  },
  {
   "cell_type": "code",
   "execution_count": 28,
   "metadata": {
    "collapsed": false
   },
   "outputs": [
    {
     "data": {
      "text/plain": [
       "['Ocbimv22010928m.p',\n",
       " 'Ocbimv22010931m.p',\n",
       " 'Ocbimv22002831m.p',\n",
       " 'Ocbimv22035659m.p',\n",
       " 'Ocbimv22006874m.p',\n",
       " 'Ocbimv22007862m.p',\n",
       " 'Ocbimv22032594m.p',\n",
       " 'Ocbimv22013969m.p',\n",
       " 'Ocbimv22000366m.p',\n",
       " 'Ocbimv22035660m.p']"
      ]
     },
     "execution_count": 28,
     "metadata": {},
     "output_type": "execute_result"
    }
   ],
   "source": [
    "seq_dict.keys()"
   ]
  },
  {
   "cell_type": "code",
   "execution_count": null,
   "metadata": {
    "collapsed": true
   },
   "outputs": [],
   "source": []
  }
 ],
 "metadata": {
  "kernelspec": {
   "display_name": "Python 2",
   "language": "python",
   "name": "python2"
  },
  "language_info": {
   "codemirror_mode": {
    "name": "ipython",
    "version": 2
   },
   "file_extension": ".py",
   "mimetype": "text/x-python",
   "name": "python",
   "nbconvert_exporter": "python",
   "pygments_lexer": "ipython2",
   "version": "2.7.10"
  }
 },
 "nbformat": 4,
 "nbformat_minor": 0
}
